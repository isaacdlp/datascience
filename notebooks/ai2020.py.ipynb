{
 "cells": [
  {
   "cell_type": "code",
   "execution_count": 109,
   "metadata": {
    "collapsed": true
   },
   "outputs": [],
   "source": [
    "import warnings\n",
    "warnings.filterwarnings(\"ignore\")\n",
    "import pandas as pd\n",
    "import matplotlib.pyplot as pt\n",
    "from matplotlib.figure import Figure\n",
    "import plotly.express as px\n",
    "import plotly.graph_objects as go\n",
    "from plotly.tools import mpl_to_plotly\n",
    "from IPython.core.display import display, HTML"
   ]
  },
  {
   "cell_type": "code",
   "execution_count": 110,
   "outputs": [],
   "source": [
    "github = True\n",
    "\n",
    "def responsive(figure):\n",
    "    if isinstance(figure, Figure):\n",
    "        figure = mpl_to_plotly(figure, strip_style = False)\n",
    "    figure.layout[\"autosize\"] = True\n",
    "    figure.layout.pop(\"width\", None)\n",
    "    figure.layout.pop(\"height\", None)\n",
    "    figure = go.FigureWidget(figure)\n",
    "    if github:\n",
    "        name = figure.layout.title.text\n",
    "        name = f\"./{name.replace(' ', '_')}.html\"\n",
    "        figure.write_html(name, include_plotlyjs = \"cdn\")\n",
    "        display(HTML(f\"<center><a href='{name}' target='_blank'>Click to visualize in GitHub</a></center>\"))\n",
    "    return figure"
   ],
   "metadata": {
    "collapsed": false,
    "pycharm": {
     "name": "#%%\n"
    }
   }
  },
  {
   "cell_type": "code",
   "execution_count": 111,
   "outputs": [
    {
     "name": "stdout",
     "output_type": "stream",
     "text": [
      "Company:  100\n",
      "Crunchbase:  96\n",
      "Industries:  100\n",
      "Location:  100\n",
      "Employee Count:  95\n",
      "Founded Date:  96\n",
      "Investor Count:  94\n",
      "Lead Investor Count:  89\n",
      "Select Investors:  99\n",
      "Funding:  94\n",
      "Round:  94\n"
     ]
    }
   ],
   "source": [
    "df = pd.read_csv(\"../data/ai2020.csv\", encoding = \"ISO-8859-1\")\n",
    "# df.to_csv(\"clean.csv\", index=False, encoding = \"ISO-8859-1\")\n",
    "# df.drop(\"Focus Area\", axis=1, inplace=True)\n",
    "\n",
    "df.rename({\"Round\" : \"Round Count\"}, inplace = True)\n",
    "df[\"Industries\"] = df[\"Industries\"].str.title()\n",
    "\n",
    "for field in df:\n",
    "    print(f\"{field}:  {df[field].count()}\")"
   ],
   "metadata": {
    "collapsed": false,
    "pycharm": {
     "name": "#%%\n"
    }
   }
  },
  {
   "cell_type": "code",
   "execution_count": 112,
   "outputs": [],
   "source": [
    "df[\"Funding\"].fillna(0, inplace = True)\n",
    "df[\"Funding\"] = df[\"Funding\"].str.strip()\n",
    "df[\"Funding\"] = df[\"Funding\"].str.replace(\"$\", \"\")\n",
    "df[\"Funding\"] = df[\"Funding\"].apply(pd.to_numeric)"
   ],
   "metadata": {
    "collapsed": false,
    "pycharm": {
     "name": "#%%\n"
    }
   }
  },
  {
   "cell_type": "code",
   "execution_count": 113,
   "outputs": [],
   "source": [
    "df[[\"City\",\"Region\", \"Country\"]] = df[\"Location\"].str.split(\",\", expand = True)\n",
    "df[\"City\"] = df[\"Region\"].str.strip()\n",
    "df[\"Region\"] = df[\"Region\"].str.strip()\n",
    "df[\"Country\"] = df[\"Country\"].str.strip()"
   ],
   "metadata": {
    "collapsed": false,
    "pycharm": {
     "name": "#%%\n"
    }
   }
  },
  {
   "cell_type": "code",
   "execution_count": 114,
   "outputs": [
    {
     "data": {
      "text/plain": "<IPython.core.display.HTML object>",
      "text/html": "<center><a href='./Lead_AI_Companies_per_Country.html' target='_blank'>Click to visualize in GitHub</a></center>"
     },
     "metadata": {},
     "output_type": "display_data"
    },
    {
     "data": {
      "text/plain": "FigureWidget({\n    'data': [{'alignmentgroup': 'True',\n              'hovertemplate': 'Country=%{x}<br>Company…",
      "application/vnd.jupyter.widget-view+json": {
       "version_major": 2,
       "version_minor": 0,
       "model_id": "9e9efd61d0714c85b6e49b92e4d511b0"
      }
     },
     "metadata": {},
     "output_type": "display_data"
    }
   ],
   "source": [
    "gr = df.groupby(\"Country\")[\"Company\"].count()\n",
    "gr.sort_values(ascending = False, inplace = True)\n",
    "ds = gr.reset_index()\n",
    "ds.columns = [\"Country\", \"Company Count\"]\n",
    "fig = responsive(px.bar(ds, x = \"Country\", y = \"Company Count\", title = \"Lead AI Companies per Country\"))\n",
    "fig\n",
    "\n",
    "#ax = gr.plot.bar()\n",
    "#responsive(ax.figure)"
   ],
   "metadata": {
    "collapsed": false,
    "pycharm": {
     "name": "#%%\n"
    }
   }
  },
  {
   "cell_type": "markdown",
   "source": [
    "This is a **markdown** cell"
   ],
   "metadata": {
    "collapsed": false,
    "pycharm": {
     "name": "#%% md\n"
    }
   }
  },
  {
   "cell_type": "code",
   "source": [
    "df.set_index(\"Company\", drop = True, inplace = True)\n",
    "df[\"Select Investors\"].fillna(\"None\", inplace = True)\n",
    "ds = pd.DataFrame(df[\"Select Investors\"].str.split(\",\").tolist(), index = df.index).stack()\n",
    "ds = ds.reset_index([0, \"Company\"])\n",
    "ds.columns = [\"Company\", \"Lead Investor\"]\n",
    "df = pd.merge(left = df, right = ds, left_on = \"Company\", right_on = \"Company\")\n",
    "df.drop(\"Select Investors\", axis = 1, inplace = True)\n",
    "df[\"Lead Investor\"] = df[\"Lead Investor\"].str.strip()"
   ],
   "metadata": {
    "collapsed": false,
    "pycharm": {
     "name": "#%%\n"
    }
   },
   "execution_count": 115,
   "outputs": []
  },
  {
   "cell_type": "code",
   "execution_count": 116,
   "outputs": [
    {
     "data": {
      "text/plain": "315"
     },
     "execution_count": 116,
     "metadata": {},
     "output_type": "execute_result"
    }
   ],
   "source": [
    "gr = df.groupby(\"Lead Investor\")[\"Company\"].count()\n",
    "gr.sort_values(ascending = True, inplace = True)\n",
    "gr.count()"
   ],
   "metadata": {
    "collapsed": false,
    "pycharm": {
     "name": "#%%\n"
    }
   }
  },
  {
   "cell_type": "code",
   "execution_count": 117,
   "outputs": [
    {
     "data": {
      "text/plain": "25"
     },
     "execution_count": 117,
     "metadata": {},
     "output_type": "execute_result"
    }
   ],
   "source": [
    "gr = gr[gr > 2]\n",
    "gr.count()"
   ],
   "metadata": {
    "collapsed": false,
    "pycharm": {
     "name": "#%%\n"
    }
   }
  },
  {
   "cell_type": "code",
   "execution_count": 118,
   "outputs": [
    {
     "data": {
      "text/plain": "<IPython.core.display.HTML object>",
      "text/html": "<center><a href='./Lead_AI_Companies_per_Lead_Investor.html' target='_blank'>Click to visualize in GitHub</a></center>"
     },
     "metadata": {},
     "output_type": "display_data"
    },
    {
     "data": {
      "text/plain": "FigureWidget({\n    'data': [{'orientation': 'h',\n              'type': 'bar',\n              'uid': 'b1725518-0…",
      "application/vnd.jupyter.widget-view+json": {
       "version_major": 2,
       "version_minor": 0,
       "model_id": "83641585f4144b9e9672263d62cf735c"
      }
     },
     "metadata": {},
     "output_type": "display_data"
    }
   ],
   "source": [
    "ds = gr.reset_index()\n",
    "ds.columns = [\"Lead Investor\", \"Company Count\"]\n",
    "\n",
    "#responsive(px.bar(ds, x = \"Investor\", y = \"Company Count\", orientation = \"h\"))\n",
    "\n",
    "#ax = ds.plot(kind=\"barh\", x = \"Investor\", y = \"Company Count\")\n",
    "#ax.set_ylabel(\"Companies\")\n",
    "#responsive(ax.figure)\n",
    "\n",
    "fig = go.Figure(go.Bar(\n",
    "            x = ds[\"Company Count\"].values,\n",
    "            y = ds[\"Lead Investor\"].values,\n",
    "            orientation = \"h\"))\n",
    "fig.update_layout(\n",
    "    title = \"Lead AI Companies per Lead Investor\",\n",
    "    xaxis_title = \"Company Count\",\n",
    "    yaxis_title = \"Lead Investor\"\n",
    ")\n",
    "fig = responsive(fig)\n",
    "fig"
   ],
   "metadata": {
    "collapsed": false,
    "pycharm": {
     "name": "#%%\n"
    }
   }
  },
  {
   "cell_type": "code",
   "execution_count": 119,
   "outputs": [
    {
     "data": {
      "text/plain": "<Figure size 432x288 with 1 Axes>",
      "image/png": "[encoded data removed]"
     },
     "metadata": {
      "needs_background": "light"
     },
     "output_type": "display_data"
    }
   ],
   "source": [
    "fig, ax = pt.subplots()\n",
    "# hide axes\n",
    "fig.patch.set_visible(False)\n",
    "ax.axis('off')\n",
    "ax.axis('tight')\n",
    "ax.table(cellText=ds.values, colLabels=ds.columns, loc='center')\n",
    "#pd.plotting.table(ax, ds, loc='center')\n",
    "fig.tight_layout()\n",
    "pt.show()"
   ],
   "metadata": {
    "collapsed": false,
    "pycharm": {
     "name": "#%%\n"
    }
   }
  },
  {
   "cell_type": "code",
   "execution_count": 119,
   "outputs": [],
   "source": [
    "\n"
   ],
   "metadata": {
    "collapsed": false,
    "pycharm": {
     "name": "#%%\n"
    }
   }
  }
 ],
 "metadata": {
  "kernelspec": {
   "display_name": "Python 3",
   "language": "python",
   "name": "python3"
  },
  "language_info": {
   "codemirror_mode": {
    "name": "ipython",
    "version": 2
   },
   "file_extension": ".py",
   "mimetype": "text/x-python",
   "name": "python",
   "nbconvert_exporter": "python",
   "pygments_lexer": "ipython2",
   "version": "2.7.6"
  }
 },
 "nbformat": 4,
 "nbformat_minor": 0
}